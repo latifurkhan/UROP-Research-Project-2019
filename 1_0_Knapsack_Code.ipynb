{
  "nbformat": 4,
  "nbformat_minor": 0,
  "metadata": {
    "colab": {
      "name": "1/0 Knapsack Code",
      "provenance": [],
      "include_colab_link": true
    },
    "kernelspec": {
      "name": "python3",
      "display_name": "Python 3"
    }
  },
  "cells": [
    {
      "cell_type": "markdown",
      "metadata": {
        "id": "view-in-github",
        "colab_type": "text"
      },
      "source": [
        "<a href=\"https://colab.research.google.com/github/latifurkhan/UROP-Research-Project-2019/blob/master/1_0_Knapsack_Code.ipynb\" target=\"_parent\"><img src=\"https://colab.research.google.com/assets/colab-badge.svg\" alt=\"Open In Colab\"/></a>"
      ]
    },
    {
      "cell_type": "markdown",
      "metadata": {
        "id": "WXCVNZC7GTDo",
        "colab_type": "text"
      },
      "source": [
        "Basic Program that will be built into the Big Question solver later on."
      ]
    },
    {
      "cell_type": "markdown",
      "metadata": {
        "id": "iYDfl-9bdngC",
        "colab_type": "text"
      },
      "source": [
        "*******\n",
        "Note: Not all GPUs from spreadsheet are listed in the array. Later modifications to choices of GPUs will be added in near future.\n",
        "******"
      ]
    },
    {
      "cell_type": "code",
      "metadata": {
        "id": "A0M1vF_2GSbr",
        "colab_type": "code",
        "outputId": "fd01cf9c-d5b0-43b5-ac6d-4f4ac832ae55",
        "colab": {
          "base_uri": "https://localhost:8080/",
          "height": 51
        }
      },
      "source": [
        "# created two arrays holding information on GPU's price and # of GFLOPs\n",
        "gpu_price = [79, 109, 139, 299, 379, 499, 599, 699, 1200, 1200, 2999, 599, 799, 1199]\n",
        "\n",
        "# The GPUs GFLOPS are taken as FP32 single value operations from link:\n",
        "# https://en.wikipedia.org/wiki/List_of_Nvidia_graphics_processing_units\n",
        "gpu_GFLOPS = [38, 1862, 2138, 4375, 6463, 8186, 8873, 11340, 10974, 11366, 12288, 14930, 20137, 26895]\n",
        "\n",
        "# List of GPUs as the reference to print out after finding the combination of GPUs to use\n",
        "\n",
        "# pos: index of current item\n",
        "# selected: list of indices of selected items\n",
        "MAX_PRICE = int(input('What is your budget (to the nearest dollar)? : $'))\n",
        "\n",
        "#After solving the 0/1 problem you should start thinking about being able to take the Bigger knapscack problem into consideration\n",
        "# create at least 10 test cases to see if code is 100% correct\n",
        "# look into doing a bottom-up approach to this program (right now its recursive)\n",
        "\n",
        "def select_processor(pos, selected):\n",
        "    \n",
        "    # calculate totals\n",
        "    total_GFLOPS = 0\n",
        "    total_price = 0\n",
        "    for i in selected:\n",
        "        total_price += gpu_price[i] # make these into parameters so test cases can be seen w/ different arrangements\n",
        "        total_GFLOPS += gpu_GFLOPS[i] \n",
        "    \n",
        "    # base case: no items left to analyze\n",
        "    if total_price > MAX_PRICE:\n",
        "        return (0,0)\n",
        "    \n",
        "    if pos >= len(gpu_GFLOPS):\n",
        "      return (total_price, total_GFLOPS, selected)\n",
        "      \n",
        "    # recursive case\n",
        "    ans1 = select_processor(pos+1, selected+[pos]) # switch on\n",
        "    \n",
        "    # .copy() creates a copy of the list constructed so far as to not\n",
        "    # mess any of the values up / making no inconsistencies later on\n",
        "    ans2 = select_processor(pos+1, selected.copy()) # switch off\n",
        "    \n",
        "    # need to find the ans with greater value\n",
        "    \n",
        "    if ans1[0] > ans2[0]:\n",
        "        return ans1\n",
        "    else: \n",
        "        return ans2\n",
        "\n",
        "# This gives the values of the max GPUs user can get along with # of GFLOPs\n",
        "ans = select_processor(0, [])\n",
        "print(ans)\n",
        "    \n",
        "    \n",
        "#create another array on top of other arrays, creates sort of 'cost' \n",
        "#create an array with that function / multiple cases\n",
        "#check the cost array w/ indexes\n",
        "#think about it like working backwards as a possible solution"
      ],
      "execution_count": 0,
      "outputs": [
        {
          "output_type": "stream",
          "text": [
            "What is your budget (to the nearest dollar)? : $1200\n",
            "(1200, 11366, [9])\n"
          ],
          "name": "stdout"
        }
      ]
    },
    {
      "cell_type": "code",
      "metadata": {
        "id": "9XKkzZzVdHXf",
        "colab_type": "code",
        "colab": {}
      },
      "source": [
        ""
      ],
      "execution_count": 0,
      "outputs": []
    }
  ]
}